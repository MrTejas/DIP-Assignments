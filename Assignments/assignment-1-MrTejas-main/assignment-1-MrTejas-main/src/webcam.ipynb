{
 "cells": [
  {
   "cell_type": "code",
   "execution_count": 11,
   "id": "382824ed",
   "metadata": {},
   "outputs": [],
   "source": [
    "import cv2"
   ]
  },
  {
   "cell_type": "code",
   "execution_count": 12,
   "id": "77452442",
   "metadata": {
    "scrolled": true
   },
   "outputs": [],
   "source": [
    "camera_port = 0\n",
    "camera = cv2.VideoCapture(camera_port)\n",
    "\n",
    "while True:\n",
    "    (ret,img) = camera.read()\n",
    "    if ret:\n",
    "        cv2.imwrite('./../images/Webcam_image.jpg',img)\n",
    "        break;\n",
    "    else:\n",
    "        print('Could not capture image')\n",
    "\n",
    "camera.release()\n",
    "cv2.destroyAllWindows()"
   ]
  },
  {
   "cell_type": "code",
   "execution_count": null,
   "id": "f298dd7a",
   "metadata": {},
   "outputs": [],
   "source": []
  }
 ],
 "metadata": {
  "kernelspec": {
   "display_name": "Python 3 (ipykernel)",
   "language": "python",
   "name": "python3"
  },
  "language_info": {
   "codemirror_mode": {
    "name": "ipython",
    "version": 3
   },
   "file_extension": ".py",
   "mimetype": "text/x-python",
   "name": "python",
   "nbconvert_exporter": "python",
   "pygments_lexer": "ipython3",
   "version": "3.9.13"
  }
 },
 "nbformat": 4,
 "nbformat_minor": 5
}
